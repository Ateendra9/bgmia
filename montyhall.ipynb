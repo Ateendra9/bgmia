{
  "nbformat": 4,
  "nbformat_minor": 0,
  "metadata": {
    "colab": {
      "name": "Untitled1.ipynb",
      "provenance": []
    },
    "kernelspec": {
      "name": "python3",
      "display_name": "Python 3"
    },
    "language_info": {
      "name": "python"
    }
  },
  "cells": [
    {
      "cell_type": "markdown",
      "source": [
        "monty hall\n"
      ],
      "metadata": {
        "id": "f806Qo6IhmsK"
      }
    },
    {
      "cell_type": "markdown",
      "source": [
        "best first search"
      ],
      "metadata": {
        "id": "oPPMJe0TiNYK"
      }
    },
    {
      "cell_type": "code",
      "source": [
        "import random\n",
        "\n",
        "def run_trial(switch_doors, ndoors=3):\n",
        "    \"\"\"\n",
        "    Run a single trial of the Monty Hall problem, with or without switching\n",
        "    after the gameshow host reveals a goat behind one of the unchosen doors.\n",
        "    (switch_doors is True or False). The car is behind door number 1 and the\n",
        "    gameshow host knows that.\n",
        "\n",
        "    \"\"\"\n",
        "\n",
        "    # Pick a random door out of the ndoors available\n",
        "    chosen_door = random.randint(1, ndoors)\n",
        "    if switch_doors:\n",
        "        # Reveal a goat\n",
        "        revealed_door = 3 if chosen_door==2 else 2\n",
        "        # Make the switch by choosing any other door than the initially-\n",
        "        # selected one and the one just opened to reveal a goat. \n",
        "        available_doors = [dnum for dnum in range(1,ndoors+1)\n",
        "                                if dnum not in (chosen_door, revealed_door)]\n",
        "        chosen_door = random.choice(available_doors)\n",
        "\n",
        "    # You win if you picked door number 1\n",
        "    return chosen_door == 1\n",
        "\n",
        "def run_trials(ntrials, switch_doors, ndoors=3):\n",
        "    \"\"\"\n",
        "    Run ntrials iterations of the Monty Hall problem with ndoors doors, with\n",
        "    and without switching (switch_doors = True or False). Returns the number\n",
        "    of trials which resulted in winning the car by picking door number 1.\n",
        "\n",
        "    \"\"\"\n",
        "\n",
        "    nwins = 0\n",
        "    for i in range(ntrials):\n",
        "        if run_trial(switch_doors, ndoors):\n",
        "            nwins += 1\n",
        "    return nwins\n",
        "\n",
        "ndoors, ntrials = 3, 10000\n",
        "nwins_without_switch = run_trials(ntrials, False, ndoors)\n",
        "nwins_with_switch = run_trials(ntrials, True, ndoors)\n",
        "\n",
        "print('Monty Hall Problem with {} doors'.format(ndoors))\n",
        "print('Proportion of wins without switching: {:.4f}'\n",
        "            .format(nwins_without_switch/ntrials))\n",
        "print('Proportion of wins with switching: {:.4f}'\n",
        "            .format(nwins_with_switch/ntrials))"
      ],
      "metadata": {
        "colab": {
          "base_uri": "https://localhost:8080/"
        },
        "id": "2vJQAtBKh4Q2",
        "outputId": "a5f9a971-7d74-4bb1-8e8b-fdb39c44de7c"
      },
      "execution_count": 1,
      "outputs": [
        {
          "output_type": "stream",
          "name": "stdout",
          "text": [
            "Monty Hall Problem with 3 doors\n",
            "Proportion of wins without switching: 0.3216\n",
            "Proportion of wins with switching: 0.6612\n"
          ]
        }
      ]
    }
  ]
}